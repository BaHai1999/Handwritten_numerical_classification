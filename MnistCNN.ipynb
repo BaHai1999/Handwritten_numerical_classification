{
 "cells": [
  {
   "cell_type": "code",
   "execution_count": 1,
   "metadata": {
    "id": "bvu_szshYezr"
   },
   "outputs": [],
   "source": [
    "import numpy as np\n",
    "import matplotlib.pyplot as plt\n",
    "from keras.models import Sequential\n",
    "from keras.layers import Dense, Dropout, Activation, Flatten\n",
    "from keras.layers import Conv2D, MaxPooling2D, AveragePooling2D\n",
    "from keras.utils import np_utils\n",
    "from keras.datasets import mnist\n",
    "import keras\n",
    "import time"
   ]
  },
  {
   "cell_type": "markdown",
   "metadata": {
    "id": "CH2xSZlrZA4b"
   },
   "source": [
    "load dữ liệu Mnist"
   ]
  },
  {
   "cell_type": "code",
   "execution_count": 2,
   "metadata": {
    "colab": {
     "base_uri": "https://localhost:8080/"
    },
    "id": "kWwtIsTJY8wi",
    "outputId": "1cfa91e0-8612-4085-aea9-b42d704067ee"
   },
   "outputs": [],
   "source": [
    "(X_train, y_train), (X_test, y_test) = mnist.load_data()\n",
    "\n",
    "X_val, y_val = X_train[50000:60000,:], y_train[50000:60000]\n",
    "X_train, y_train = X_train[:50000,:], y_train[:50000]"
   ]
  },
  {
   "cell_type": "markdown",
   "metadata": {
    "id": "jn-R8CRPpMJg"
   },
   "source": [
    "Reshape lại dữ liệu theo đúng fomat của keras"
   ]
  },
  {
   "cell_type": "code",
   "execution_count": 3,
   "metadata": {
    "id": "-EqZO_-spWPQ"
   },
   "outputs": [],
   "source": [
    "X_train = X_train.reshape(X_train.shape[0], 28, 28, 1)\n",
    "X_val = X_val.reshape(X_val.shape[0], 28, 28, 1)\n",
    "X_test = X_test.reshape(X_test.shape[0], 28, 28, 1)\n"
   ]
  },
  {
   "cell_type": "markdown",
   "metadata": {
    "id": "s4qVVe2wuj-d"
   },
   "source": [
    "one hot encoding"
   ]
  },
  {
   "cell_type": "code",
   "execution_count": 4,
   "metadata": {
    "id": "9cpLd1vnusSB"
   },
   "outputs": [],
   "source": [
    "Y_train = np_utils.to_categorical(y_train, 10)\n",
    "Y_val = np_utils.to_categorical(y_val, 10)\n",
    "Y_test = np_utils.to_categorical(y_test, 10)"
   ]
  },
  {
   "cell_type": "markdown",
   "metadata": {
    "id": "jnVLa07xxuAA"
   },
   "source": [
    "model"
   ]
  },
  {
   "cell_type": "code",
   "execution_count": 5,
   "metadata": {
    "colab": {
     "base_uri": "https://localhost:8080/"
    },
    "id": "2nqHa0UpxxQE",
    "outputId": "e638d2ad-b2c1-4cf6-ff32-68efd6b06466"
   },
   "outputs": [
    {
     "name": "stdout",
     "output_type": "stream",
     "text": [
      "Model: \"sequential\"\n",
      "_________________________________________________________________\n",
      "Layer (type)                 Output Shape              Param #   \n",
      "=================================================================\n",
      "conv2d (Conv2D)              (None, 28, 28, 6)         156       \n",
      "_________________________________________________________________\n",
      "max_pooling2d (MaxPooling2D) (None, 14, 14, 6)         0         \n",
      "_________________________________________________________________\n",
      "conv2d_1 (Conv2D)            (None, 10, 10, 16)        2416      \n",
      "_________________________________________________________________\n",
      "max_pooling2d_1 (MaxPooling2 (None, 5, 5, 16)          0         \n",
      "_________________________________________________________________\n",
      "flatten (Flatten)            (None, 400)               0         \n",
      "_________________________________________________________________\n",
      "dense (Dense)                (None, 120)               48120     \n",
      "_________________________________________________________________\n",
      "dense_1 (Dense)              (None, 84)                10164     \n",
      "_________________________________________________________________\n",
      "dense_2 (Dense)              (None, 10)                850       \n",
      "=================================================================\n",
      "Total params: 61,706\n",
      "Trainable params: 61,706\n",
      "Non-trainable params: 0\n",
      "_________________________________________________________________\n"
     ]
    }
   ],
   "source": [
    "model = Sequential()\n",
    "model.add(Conv2D(6, (5,5), activation = \"relu\", padding='same', input_shape=(28,28,1)))\n",
    "#AveragePooling2D\n",
    "#MaxPooling2D\n",
    "model.add(MaxPooling2D(pool_size=(2,2), strides= 2))\n",
    "model.add(Conv2D(16, (5,5), activation = \"relu\"))\n",
    "model.add(MaxPooling2D(pool_size=(2,2), strides= 2))\n",
    "\n",
    "model.add(Flatten())\n",
    "model.add(Dense(120, activation=\"relu\"))\n",
    "model.add(Dense(84, activation=\"relu\"))\n",
    "model.add(Dense(10, activation=\"softmax\"))\n",
    "model.build()\n",
    "model.summary()"
   ]
  },
  {
   "cell_type": "markdown",
   "metadata": {
    "id": "DFA-GxHK45TZ"
   },
   "source": [
    "Hàm lossfunction, Trainning model"
   ]
  },
  {
   "cell_type": "code",
   "execution_count": 6,
   "metadata": {
    "id": "rJQSnS6S26oo"
   },
   "outputs": [],
   "source": [
    "adam = keras.optimizers.Adam(lr=0.001)"
   ]
  },
  {
   "cell_type": "code",
   "execution_count": 7,
   "metadata": {
    "colab": {
     "base_uri": "https://localhost:8080/"
    },
    "id": "58IuBccq469a",
    "outputId": "79604238-ecbc-490e-b3b7-900d45d59ac0"
   },
   "outputs": [
    {
     "name": "stdout",
     "output_type": "stream",
     "text": [
      "Epoch 1/10\n",
      "782/782 [==============================] - 12s 14ms/step - loss: 2.1050 - accuracy: 0.7964 - val_loss: 0.1491 - val_accuracy: 0.9570\n",
      "Epoch 2/10\n",
      "782/782 [==============================] - 11s 14ms/step - loss: 0.1087 - accuracy: 0.9664 - val_loss: 0.0967 - val_accuracy: 0.9717\n",
      "Epoch 3/10\n",
      "782/782 [==============================] - 10s 13ms/step - loss: 0.0676 - accuracy: 0.9790 - val_loss: 0.0865 - val_accuracy: 0.9755\n",
      "Epoch 4/10\n",
      "782/782 [==============================] - 10s 13ms/step - loss: 0.0518 - accuracy: 0.9835 - val_loss: 0.0754 - val_accuracy: 0.9794\n",
      "Epoch 5/10\n",
      "782/782 [==============================] - 11s 13ms/step - loss: 0.0443 - accuracy: 0.9864 - val_loss: 0.0765 - val_accuracy: 0.9814\n",
      "Epoch 6/10\n",
      "782/782 [==============================] - 11s 14ms/step - loss: 0.0370 - accuracy: 0.9875 - val_loss: 0.0743 - val_accuracy: 0.9799\n",
      "Epoch 7/10\n",
      "782/782 [==============================] - 11s 14ms/step - loss: 0.0324 - accuracy: 0.9893 - val_loss: 0.0730 - val_accuracy: 0.9809\n",
      "Epoch 8/10\n",
      "782/782 [==============================] - 11s 15ms/step - loss: 0.0299 - accuracy: 0.9906 - val_loss: 0.0682 - val_accuracy: 0.9840\n",
      "Epoch 9/10\n",
      "782/782 [==============================] - 11s 15ms/step - loss: 0.0290 - accuracy: 0.9913 - val_loss: 0.0580 - val_accuracy: 0.9842\n",
      "Epoch 10/10\n",
      "782/782 [==============================] - 11s 13ms/step - loss: 0.0202 - accuracy: 0.9938 - val_loss: 0.0722 - val_accuracy: 0.9835\n"
     ]
    }
   ],
   "source": [
    "model.compile(loss='categorical_crossentropy', optimizer= adam, metrics=['accuracy'])\n",
    "t1 = time.time()\n",
    "H = model.fit(X_train, Y_train, validation_data=(X_val, Y_val), batch_size=64, epochs=10, verbose=1)\n",
    "t = time.time() - t1"
   ]
  },
  {
   "cell_type": "markdown",
   "metadata": {
    "id": "o5iB2rLg5EqS"
   },
   "source": [
    "Đánh giá model với dữ liệu test"
   ]
  },
  {
   "cell_type": "code",
   "execution_count": 8,
   "metadata": {
    "colab": {
     "base_uri": "https://localhost:8080/"
    },
    "id": "AP99bpPx5MU8",
    "outputId": "f90eebf4-a791-42c5-cc9e-131aeca0e62e"
   },
   "outputs": [
    {
     "name": "stdout",
     "output_type": "stream",
     "text": [
      "313/313 - 1s - loss: 0.0736 - accuracy: 0.9816\n",
      "[0.07363264262676239, 0.9815999865531921]\n"
     ]
    }
   ],
   "source": [
    "score = model.evaluate(X_test, Y_test, verbose=2)\n",
    "print(score)"
   ]
  },
  {
   "cell_type": "code",
   "execution_count": 10,
   "metadata": {
    "colab": {
     "base_uri": "https://localhost:8080/",
     "height": 315
    },
    "id": "Q3lXVThnFnIq",
    "outputId": "dc646981-dd3f-4716-a5a4-fd473ff3241a"
   },
   "outputs": [
    {
     "name": "stdout",
     "output_type": "stream",
     "text": [
      "[6.6695144e-10 3.2408989e-09 9.9999964e-01 1.8754405e-10 2.4682126e-10\n",
      " 4.3203220e-13 8.6643034e-08 1.8506194e-07 2.7458261e-11 6.4999776e-12]\n",
      "Giá trị dự đoán:  2\n"
     ]
    },
    {
     "data": {
      "image/png": "[encoded data removed]",
      "text/plain": [
       "<Figure size 432x288 with 1 Axes>"
      ]
     },
     "metadata": {
      "needs_background": "light"
     },
     "output_type": "display_data"
    }
   ],
   "source": [
    "plt.imshow(X_test[1].reshape(28,28), cmap='gray')\n",
    "y_predict = model.predict(X_test.reshape(X_test.shape[0],28,28,1))\n",
    "print(y_predict[1])\n",
    "print('Giá trị dự đoán: ', np.argmax(y_predict[1]))"
   ]
  },
  {
   "cell_type": "code",
   "execution_count": 11,
   "metadata": {
    "id": "XN6xL5AUQf4Z"
   },
   "outputs": [],
   "source": [
    "y_predict1 = np.argmax(y_predict, axis = 1)"
   ]
  },
  {
   "cell_type": "markdown",
   "metadata": {
    "id": "hLfW96c-oxul"
   },
   "source": [
    "Giá trị dự đoán sai"
   ]
  },
  {
   "cell_type": "code",
   "execution_count": 12,
   "metadata": {
    "id": "xjOENW19TrW8"
   },
   "outputs": [],
   "source": [
    "y_false = y_predict1[y_predict1 != y_test]\n",
    "y_true = y_test[y_predict1 != y_test]\n",
    "X_false = X_test[y_predict1 != y_test,:,:]"
   ]
  },
  {
   "cell_type": "code",
   "execution_count": 14,
   "metadata": {
    "colab": {
     "base_uri": "https://localhost:8080/",
     "height": 298
    },
    "id": "9imqYulBWP6b",
    "outputId": "6527e77b-8e87-4823-a406-b5192571a4ba"
   },
   "outputs": [
    {
     "name": "stdout",
     "output_type": "stream",
     "text": [
      "Giá trị dự đoán:  5  Giá trị đúng:  6\n"
     ]
    },
    {
     "data": {
      "text/plain": [
       "<matplotlib.image.AxesImage at 0x23bf2c843d0>"
      ]
     },
     "execution_count": 14,
     "metadata": {},
     "output_type": "execute_result"
    },
    {
     "data": {
      "image/png": "[encoded data removed]",
      "text/plain": [
       "<Figure size 432x288 with 1 Axes>"
      ]
     },
     "metadata": {
      "needs_background": "light"
     },
     "output_type": "display_data"
    }
   ],
   "source": [
    "dem = 25\n",
    "print(\"Giá trị dự đoán: \", y_false[dem], \" Giá trị đúng: \", y_true[dem])\n",
    "plt.imshow(X_false[dem].reshape(28,28), cmap='gray')\n"
   ]
  }
 ],
 "metadata": {
  "accelerator": "GPU",
  "colab": {
   "collapsed_sections": [],
   "name": "MnistCNN.ipynb",
   "provenance": []
  },
  "kernelspec": {
   "display_name": "Python 3",
   "language": "python",
   "name": "python3"
  },
  "language_info": {
   "codemirror_mode": {
    "name": "ipython",
    "version": 3
   },
   "file_extension": ".py",
   "mimetype": "text/x-python",
   "name": "python",
   "nbconvert_exporter": "python",
   "pygments_lexer": "ipython3",
   "version": "3.8.3"
  }
 },
 "nbformat": 4,
 "nbformat_minor": 1
}
